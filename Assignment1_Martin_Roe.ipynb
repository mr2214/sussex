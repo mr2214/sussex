{
 "cells": [
  {
   "cell_type": "markdown",
   "metadata": {},
   "source": [
    "# Question 1:\n",
    "\n",
    "Firstly, I made 11 .txt, with greater than 100 english words, I saved these .txt files in the same working directory as my python code. I opened each file from the current working directory and read each file to check I had got the correct document. To ensure I had different length of lists, each text file had a unique number of words."
   ]
  },
  {
   "cell_type": "code",
   "execution_count": 1,
   "metadata": {},
   "outputs": [],
   "source": [
    "\n",
    "import os\n",
    "##get working directory\n",
    "working_directory = os.getcwd()\n",
    "\n",
    "file_path = working_directory + '\\\\text_docs' \n",
    "path = file_path\n",
    "allLines = []\n",
    "fileList = os.listdir(path)\n",
    "file_path = working_directory + '\\\\text_docs\\\\' \n",
    "#select and text fles in working directory\n",
    "for i in fileList:\n",
    "    if i != \".ipynb_checkpoints\":\n",
    "        file = open(os.path.join(file_path + i), 'r')\n",
    "        allLines.append(file.read())"
   ]
  },
  {
   "cell_type": "markdown",
   "metadata": {},
   "source": [
    "I wrote a function which recorded the location of each text files as a string and collated this into a list."
   ]
  },
  {
   "cell_type": "code",
   "execution_count": 2,
   "metadata": {},
   "outputs": [],
   "source": [
    "# convert text files into string list\n",
    "def files_in(*dirs):\n",
    "    dir = os.path.join(*dirs)\n",
    "    files = os.listdir(dir)\n",
    "    return [os.path.join(dir, f) for f in files]\n",
    "\n",
    "List_of_files = files_in(file_path)\n",
    "List_of_files = List_of_files[1:]"
   ]
  },
  {
   "cell_type": "markdown",
   "metadata": {},
   "source": [
    "I imported a module to tokenise a text document. I read each text document and converted it into a list of tokens."
   ]
  },
  {
   "cell_type": "code",
   "execution_count": 3,
   "metadata": {},
   "outputs": [
    {
     "name": "stderr",
     "output_type": "stream",
     "text": [
      "C:\\Users\\Toshiba\\Anaconda3\\lib\\site-packages\\sklearn\\feature_extraction\\image.py:167: DeprecationWarning: `np.int` is a deprecated alias for the builtin `int`. To silence this warning, use `int` by itself. Doing this will not modify any behavior and is safe. When replacing `np.int`, you may wish to use e.g. `np.int64` or `np.int32` to specify the precision. If you wish to review your current use, check the release note link for additional information.\n",
      "Deprecated in NumPy 1.20; for more details and guidance: https://numpy.org/devdocs/release/1.20.0-notes.html#deprecations\n",
      "  dtype=np.int):\n",
      "C:\\Users\\Toshiba\\Anaconda3\\lib\\site-packages\\sklearn\\linear_model\\least_angle.py:35: DeprecationWarning: `np.float` is a deprecated alias for the builtin `float`. To silence this warning, use `float` by itself. Doing this will not modify any behavior and is safe. If you specifically wanted the numpy scalar type, use `np.float64` here.\n",
      "Deprecated in NumPy 1.20; for more details and guidance: https://numpy.org/devdocs/release/1.20.0-notes.html#deprecations\n",
      "  eps=np.finfo(np.float).eps,\n",
      "C:\\Users\\Toshiba\\Anaconda3\\lib\\site-packages\\sklearn\\linear_model\\least_angle.py:597: DeprecationWarning: `np.float` is a deprecated alias for the builtin `float`. To silence this warning, use `float` by itself. Doing this will not modify any behavior and is safe. If you specifically wanted the numpy scalar type, use `np.float64` here.\n",
      "Deprecated in NumPy 1.20; for more details and guidance: https://numpy.org/devdocs/release/1.20.0-notes.html#deprecations\n",
      "  eps=np.finfo(np.float).eps, copy_X=True, fit_path=True,\n",
      "C:\\Users\\Toshiba\\Anaconda3\\lib\\site-packages\\sklearn\\linear_model\\least_angle.py:836: DeprecationWarning: `np.float` is a deprecated alias for the builtin `float`. To silence this warning, use `float` by itself. Doing this will not modify any behavior and is safe. If you specifically wanted the numpy scalar type, use `np.float64` here.\n",
      "Deprecated in NumPy 1.20; for more details and guidance: https://numpy.org/devdocs/release/1.20.0-notes.html#deprecations\n",
      "  eps=np.finfo(np.float).eps, copy_X=True, fit_path=True,\n",
      "C:\\Users\\Toshiba\\Anaconda3\\lib\\site-packages\\sklearn\\linear_model\\least_angle.py:862: DeprecationWarning: `np.float` is a deprecated alias for the builtin `float`. To silence this warning, use `float` by itself. Doing this will not modify any behavior and is safe. If you specifically wanted the numpy scalar type, use `np.float64` here.\n",
      "Deprecated in NumPy 1.20; for more details and guidance: https://numpy.org/devdocs/release/1.20.0-notes.html#deprecations\n",
      "  eps=np.finfo(np.float).eps, positive=False):\n",
      "C:\\Users\\Toshiba\\Anaconda3\\lib\\site-packages\\sklearn\\linear_model\\least_angle.py:1097: DeprecationWarning: `np.float` is a deprecated alias for the builtin `float`. To silence this warning, use `float` by itself. Doing this will not modify any behavior and is safe. If you specifically wanted the numpy scalar type, use `np.float64` here.\n",
      "Deprecated in NumPy 1.20; for more details and guidance: https://numpy.org/devdocs/release/1.20.0-notes.html#deprecations\n",
      "  max_n_alphas=1000, n_jobs=None, eps=np.finfo(np.float).eps,\n",
      "C:\\Users\\Toshiba\\Anaconda3\\lib\\site-packages\\sklearn\\linear_model\\least_angle.py:1344: DeprecationWarning: `np.float` is a deprecated alias for the builtin `float`. To silence this warning, use `float` by itself. Doing this will not modify any behavior and is safe. If you specifically wanted the numpy scalar type, use `np.float64` here.\n",
      "Deprecated in NumPy 1.20; for more details and guidance: https://numpy.org/devdocs/release/1.20.0-notes.html#deprecations\n",
      "  max_n_alphas=1000, n_jobs=None, eps=np.finfo(np.float).eps,\n",
      "C:\\Users\\Toshiba\\Anaconda3\\lib\\site-packages\\sklearn\\linear_model\\least_angle.py:1480: DeprecationWarning: `np.float` is a deprecated alias for the builtin `float`. To silence this warning, use `float` by itself. Doing this will not modify any behavior and is safe. If you specifically wanted the numpy scalar type, use `np.float64` here.\n",
      "Deprecated in NumPy 1.20; for more details and guidance: https://numpy.org/devdocs/release/1.20.0-notes.html#deprecations\n",
      "  eps=np.finfo(np.float).eps, copy_X=True, positive=False):\n",
      "C:\\Users\\Toshiba\\Anaconda3\\lib\\site-packages\\sklearn\\linear_model\\randomized_l1.py:152: DeprecationWarning: `np.float` is a deprecated alias for the builtin `float`. To silence this warning, use `float` by itself. Doing this will not modify any behavior and is safe. If you specifically wanted the numpy scalar type, use `np.float64` here.\n",
      "Deprecated in NumPy 1.20; for more details and guidance: https://numpy.org/devdocs/release/1.20.0-notes.html#deprecations\n",
      "  precompute=False, eps=np.finfo(np.float).eps,\n",
      "C:\\Users\\Toshiba\\Anaconda3\\lib\\site-packages\\sklearn\\linear_model\\randomized_l1.py:320: DeprecationWarning: `np.float` is a deprecated alias for the builtin `float`. To silence this warning, use `float` by itself. Doing this will not modify any behavior and is safe. If you specifically wanted the numpy scalar type, use `np.float64` here.\n",
      "Deprecated in NumPy 1.20; for more details and guidance: https://numpy.org/devdocs/release/1.20.0-notes.html#deprecations\n",
      "  eps=np.finfo(np.float).eps, random_state=None,\n",
      "C:\\Users\\Toshiba\\Anaconda3\\lib\\site-packages\\sklearn\\linear_model\\randomized_l1.py:580: DeprecationWarning: `np.float` is a deprecated alias for the builtin `float`. To silence this warning, use `float` by itself. Doing this will not modify any behavior and is safe. If you specifically wanted the numpy scalar type, use `np.float64` here.\n",
      "Deprecated in NumPy 1.20; for more details and guidance: https://numpy.org/devdocs/release/1.20.0-notes.html#deprecations\n",
      "  eps=4 * np.finfo(np.float).eps, n_jobs=None,\n",
      "[nltk_data] Downloading package punkt to\n",
      "[nltk_data]     C:\\Users\\Toshiba\\AppData\\Roaming\\nltk_data...\n",
      "[nltk_data]   Package punkt is already up-to-date!\n"
     ]
    }
   ],
   "source": [
    "# tokenise text documents int NTLK format\n",
    "\n",
    "import nltk\n",
    "docs=[]\n",
    "for i in List_of_files:\n",
    "    f = open(i)\n",
    "    text = f.read()\n",
    "    f.close()\n",
    "    docs.append(text)\n",
    "\n",
    "\n",
    "import nltk\n",
    "nltk.download('punkt')\n",
    "from nltk.tokenize import word_tokenize\n",
    "\n",
    "bags=[]\n",
    "for doc in docs:\n",
    "    bags.append(word_tokenize(doc))\n",
    "    "
   ]
  },
  {
   "cell_type": "markdown",
   "metadata": {},
   "source": [
    "I imported a module to count the number of occurances for each token in the list previously created."
   ]
  },
  {
   "cell_type": "code",
   "execution_count": 4,
   "metadata": {},
   "outputs": [],
   "source": [
    "#Count number of occurances\n",
    "from collections import Counter\n",
    "def num_of_occurances(list1):\n",
    "    collection = dict(Counter(list1))\n",
    "    return collection\n",
    "\n",
    "# collect results in a list\n",
    "result = []\n",
    "for i in range(0,len(bags),1):\n",
    "     result.append(num_of_occurances(bags[i]))\n"
   ]
  },
  {
   "cell_type": "markdown",
   "metadata": {},
   "source": [
    "I wrote a function to calculate Jaccard similarity from a list of tokens, to do this I had to write a function which calculaed the total number of unique items in a dictionary, as well as summing the total number of times tokens from a set of 2 lists were identical. I then calculated the jaccard similarity between the first 2 text documents in my file list and got a value of 0.225(3sf)."
   ]
  },
  {
   "cell_type": "code",
   "execution_count": 5,
   "metadata": {},
   "outputs": [],
   "source": [
    "#jaccards function\n",
    "def maketotal(dict1):\n",
    "    total= 0\n",
    "    for items in dict1:\n",
    "        total += dict1[items]\n",
    "    return total\n",
    "\n",
    "\n",
    "def jaccard1(dict1,dict2):\n",
    "    intersection = {}\n",
    "    for items in dict1.keys():\n",
    "        if items in dict2.keys():\n",
    "            intersection[items]=min(dict1[items],dict2[items])\n",
    "            \n",
    "    intersectiontot = maketotal(intersection)\n",
    "    union = maketotal(dict1) + maketotal(dict2) - intersectiontot\n",
    "    return intersectiontot / union\n",
    "\n",
    "bag_list = []\n",
    "for i in range(0,11,1):\n",
    "    bag_list.append(num_of_occurances(bags[i]))\n",
    "    \n",
    "jaccard1(bag_list[0],bag_list[1])\n"
   ]
  },
  {
   "cell_type": "markdown",
   "metadata": {},
   "source": [
    "I imported a time module and numpy library. I wrote a function to estimate the time taken for a function to run on my computer, the function reapeted a set number of times, to improve the reliability of the results, the function calulated the mean and standard deviation over a set number of repeats.\n",
    "\n",
    "With this function, I calculated the time taken to run the jaccard function I had previously written, I chose the independant variable as the maximum value from the number of tokens between two list. I justified this as the jaccard function would have to search through every element in one list to see if it occured in the other list. I calculated the mean, standard deviation and standard error."
   ]
  },
  {
   "cell_type": "code",
   "execution_count": 38,
   "metadata": {},
   "outputs": [],
   "source": [
    "import time\n",
    "import numpy as np\n",
    "import sys\n",
    "# function to compute time taken to run a function\n",
    "# Reapeats == 1000 to reduce compute time, for better reliability use repeats = 10,000\n",
    "def timeit(somefunc,*args,repeats=1000,):\n",
    "    times=[]\n",
    "    for i in range(repeats):\n",
    "        starttime=time.time()\n",
    "        ans=somefunc(*args)\n",
    "        endtime=time.time()\n",
    "        timetaken=endtime-starttime\n",
    "        times.append(timetaken)\n",
    "    \n",
    "    mean=np.mean(times)\n",
    "    stdev=np.std(times)\n",
    " \n",
    "    return (mean,stdev)\n",
    "\n",
    "result = []\n",
    "max_len = []\n",
    "max_size = []\n",
    "mean = []\n",
    "sd = []\n",
    "se = []\n",
    "\n",
    "# Results of time taken to compute function on a variety of sets,\n",
    "length = len(bag_list)-1\n",
    "for i in range(0,length,1):\n",
    "    result.append(timeit(jaccard1,bag_list[i],bag_list[i+1]))\n",
    "    max_len.append(max(len(bag_list[i]),len(bag_list[i+1])))\n",
    "    max_size.append(sys.getsizeof(num_of_occurances(bags[i])))\n",
    "    mean.append(result[i][0])\n",
    "    sd.append(result[i][1])\n",
    "    se.append(sd[i]/np.sqrt(max_len[i]))\n"
   ]
  },
  {
   "cell_type": "markdown",
   "metadata": {},
   "source": [
    "Theoretically the worst case running time for the jaccard function would be of O(n^2). This is because you have to check if each item(one for loop) in the list, occurs in another list(second for loop in the worst case scenario).\n",
    "\n",
    "I plotted results of mean time to compute aganst length of the largest list in the set, importing the matplotlib module, I plotted points via a scatter plot and add a trendline, I also added error bars using the standard error, since I was calculating the mean value."
   ]
  },
  {
   "cell_type": "code",
   "execution_count": 9,
   "metadata": {},
   "outputs": [
    {
     "data": {
      "text/plain": [
       "(-0.00025, 0.0005)"
      ]
     },
     "execution_count": 9,
     "metadata": {},
     "output_type": "execute_result"
    },
    {
     "data": {
      "image/png": "[encoded data removed]",
      "text/plain": [
       "<Figure size 432x288 with 1 Axes>"
      ]
     },
     "metadata": {
      "needs_background": "light"
     },
     "output_type": "display_data"
    }
   ],
   "source": [
    "import matplotlib.pyplot as plt\n",
    "\n",
    "#function to plot a straight line graph\n",
    "def straight_line_plot(x,y):\n",
    "     fig = plt.figure()\n",
    "#find line of best fit\n",
    "     a, b = np.polyfit(x, y, 1)\n",
    "\n",
    "#add points to plot\n",
    "     plt.scatter(x, y)\n",
    "\n",
    "#add line of best fit to plot\n",
    "     plt.plot(x, a*x+b)  \n",
    "     plt.errorbar(x, y, yerr=np.array(se), label='both limits (default)', ls = \"none\")\n",
    "     #plt.legend(loc='lower right')\n",
    "\n",
    "\n",
    "straight_line_plot(np.array(max_len),np.array(mean))\n",
    "plt.xlabel('Maximum Length of list')\n",
    "plt.ylabel('mean time taken(s)')\n",
    "plt.title(\"Time taken to compute Jaccards similarity\")\n",
    "plt.ylim(-0.00025,0.0005)"
   ]
  },
  {
   "cell_type": "code",
   "execution_count": 10,
   "metadata": {},
   "outputs": [
    {
     "name": "stdout",
     "output_type": "stream",
     "text": [
      "[2.52754614e-05 2.54129249e-05 2.68688721e-05 2.70147405e-05\n",
      " 2.74420082e-05 2.71176656e-05 3.09133875e-05 2.74242213e-05\n",
      " 2.82963053e-05 2.89924395e-05]\n",
      "[9.29408073e-05 1.23927593e-04 1.58904314e-04 1.79889441e-04\n",
      " 1.95879459e-04 2.15866327e-04 3.26795816e-04 2.46850252e-04\n",
      " 2.71829605e-04 3.00814867e-04]\n"
     ]
    }
   ],
   "source": [
    "print(np.array(se))\n",
    "print(np.array(mean))"
   ]
  },
  {
   "cell_type": "markdown",
   "metadata": {},
   "source": [
    "since the error << than the x argument, we can assume the conversion of errors in logaritions as dx/x, were dx is the error."
   ]
  },
  {
   "cell_type": "markdown",
   "metadata": {},
   "source": [
    "A stright line plot is not a very suitable plot for the data collected, hence I converted the data with the natural log. Once again error bars using the standard error were added. The gradient of the log log plot will indicate the time complexity of the jaccard function for my computer.(rules of logs mean exponent of function in log can be moved to multiple (log(a^b) = blog(a)))"
   ]
  },
  {
   "cell_type": "code",
   "execution_count": 11,
   "metadata": {},
   "outputs": [
    {
     "data": {
      "text/plain": [
       "Text(0.5, 1.0, 'Time taken to compute Jaccards similarity - log')"
      ]
     },
     "execution_count": 11,
     "metadata": {},
     "output_type": "execute_result"
    },
    {
     "data": {
      "image/png": "[encoded data removed]",
      "text/plain": [
       "<Figure size 432x288 with 1 Axes>"
      ]
     },
     "metadata": {
      "needs_background": "light"
     },
     "output_type": "display_data"
    }
   ],
   "source": [
    "x = np.array(max_len)\n",
    "y = np.array(mean)\n",
    "# function to plot a log log graph\n",
    "def straight_line_log_log_plot(x,y):\n",
    "    xlog = np.log(x)\n",
    "    ylog = np.log(y)\n",
    "    z = se/y\n",
    "\n",
    "#find line of best fit\n",
    "    a, b = np.polyfit(xlog, ylog, 1)\n",
    "#add points to plot\n",
    "    plt.scatter(xlog, ylog)\n",
    "\n",
    "#add line of best fit to plot\n",
    "    plt.plot(xlog, a*xlog+b) \n",
    "    plt.errorbar(xlog, ylog, yerr=np.array(z), label='both limits (default)',ls='none')\n",
    "    plt.legend(loc='lower right')\n",
    "\n",
    "straight_line_log_log_plot(x,y)\n",
    "plt.xlabel('Maximum Length of list')\n",
    "plt.ylabel('time taken(s)')\n",
    "plt.title(\"Time taken to compute Jaccards similarity - log\")"
   ]
  },
  {
   "cell_type": "markdown",
   "metadata": {},
   "source": [
    "I wrote a function to calculate the gradient and the intercept of the log log plot"
   ]
  },
  {
   "cell_type": "code",
   "execution_count": 12,
   "metadata": {},
   "outputs": [
    {
     "name": "stdout",
     "output_type": "stream",
     "text": [
      "Gradient and intercept 1.9003434837170643 -8.103965151284234\n"
     ]
    }
   ],
   "source": [
    "import math\n",
    "from scipy import stats\n",
    "import numpy\n",
    "# function to calculate gradeint and intercept of straight line on log log graph\n",
    "def grad_interpect_log_log(x,y):\n",
    "    x = numpy.log10(x)\n",
    "    y = numpy.log10(y)\n",
    "\n",
    "    gradient, intercept, r_value, p_value, std_err = stats.linregress(x,y)\n",
    "    print (\"Gradient and intercept\", gradient, intercept)\n",
    "grad_interpect_log_log(np.array(max_len),np.array(mean))"
   ]
  },
  {
   "cell_type": "markdown",
   "metadata": {},
   "source": [
    "A gradient of 1.90(3sf), is close to the theoritcal worst case running time"
   ]
  },
  {
   "cell_type": "markdown",
   "metadata": {},
   "source": [
    "### Summary Q1:\n",
    "To improve the analysis, I could have used more than 11 text documents, with a greater variety of the the number of words in each document, I could also have tested a greater range of possible sets, however for this analysis, I think  what I have show is sufficent. For converting errors on a log graph the error values are only 10 times less than the function output, and ideally this magnitude would be 100 times larger."
   ]
  },
  {
   "cell_type": "markdown",
   "metadata": {},
   "source": [
    "# Question 2:\n",
    "To convert from a spare representation to a dense representation, I wrote a function which took a list of dictionaries and outputed a matrix representation of the word document."
   ]
  },
  {
   "cell_type": "code",
   "execution_count": 13,
   "metadata": {},
   "outputs": [],
   "source": [
    "def make_matrix(list_of_dicts):\n",
    "    #first of all make a list of all of the features that occur in any document - these will be the dimensions of the matrix\n",
    "    allfeatures={}    \n",
    "    for docdict in list_of_dicts:\n",
    "        for feat in docdict.keys():\n",
    "            allfeatures[feat]=1\n",
    "    \n",
    "    dimensions=list(allfeatures.keys())\n",
    "    #don't strictly need to sort it - but it is good practise to make sure it is reproducible\n",
    "    sorted(dimensions)\n",
    "    \n",
    "    matrix=[]\n",
    "    #each row in the matrix will be one of the dimensions\n",
    "    for dimension in dimensions:\n",
    "        row=[]\n",
    "        #look up the appropriate value for each document\n",
    "        for docdict in list_of_dicts:\n",
    "            row.append(docdict.get(dimension,0)) #this will append the document's value if present, 0 otherwise\n",
    "        matrix.append(row)\n",
    "        \n",
    "        \n",
    "    return matrix\n",
    "\n",
    "## it might be useful to be able to transpose a matrix so we can compare documents\n",
    "def transpose(matrix):\n",
    "    transposed=[]\n",
    "    for i in range(0,len(matrix[0])):\n",
    "        transposed.append([row[i] for row in matrix])\n",
    "        \n",
    "    return transposed\n",
    "\n",
    "#call make_matrix on whatever variable holds your list of dictionaries representation of your documents\n",
    "\n",
    "\n",
    "amatrix=make_matrix(bag_list)\n",
    "\n",
    "\n"
   ]
  },
  {
   "cell_type": "markdown",
   "metadata": {},
   "source": [
    "I wrote a function to calculate the cosine similarity between 2 documents in a dense representation. I also wrote a function to calculate cosine similarity using inbuilt features in the numpy library. To optimise the function, I checked wheter a zero value was being used and if so, reduced the total number of calculations using an if statement."
   ]
  },
  {
   "cell_type": "code",
   "execution_count": 15,
   "metadata": {},
   "outputs": [],
   "source": [
    "import math\n",
    "import numpy as np\n",
    "\n",
    "# calculute cosine similiarity from dense representation\n",
    "def naiveCosine(a, b):\n",
    "    num = 0\n",
    "    d1 = 0\n",
    "    d2 = 0\n",
    "    for i in range(0,len(a)):\n",
    "        if a[i] != 0 and b[i] != 0:\n",
    "            num += a[i]*b[i]\n",
    "        if a[i] != 0:\n",
    "            d1 += a[i]*a[i]\n",
    "        if b[i] != 0:\n",
    "            d2 += b[i]*b[i]\n",
    "    \n",
    "    return (num) / (np.sqrt(d1*d2))\n",
    "\n",
    "\n",
    "\n",
    "\n",
    "docvectors=transpose(amatrix)\n",
    "\n",
    "vectors = []\n",
    "for i in range(0,len(docvectors),1):\n",
    "    vectors.append(np.array(docvectors[i]))\n",
    "    \n",
    "from numpy.linalg import norm \n",
    "# calculute cosine similiarity from dense representation, using inbuilt numpy library\n",
    "def npcosine(a, b):\n",
    "    cosine = np.dot(a,b)/(norm(a)*norm(b))\n",
    "    return(cosine)"
   ]
  },
  {
   "cell_type": "markdown",
   "metadata": {},
   "source": [
    "Using the timeit function previously created, I calculated the time taken to calculate the cosine similiarity, using my function and the function written with numpy libraries. The length of each matrix is always going to be the same length, due to the fact that to create the matrix, I had to find representations for every single feature of NLTK in the document, hence the length of each list was the same. However the number of zeros did vary for each represenation, so I choose my length as the maximum value in a set of the number of non zero elements, since calculating with a zero is trivial and reduces the time complexity in the calculation of the cosine function. "
   ]
  },
  {
   "cell_type": "code",
   "execution_count": 16,
   "metadata": {},
   "outputs": [],
   "source": [
    "\n",
    "result = []\n",
    "max_len = []\n",
    "mean = []\n",
    "sd = []\n",
    "se = []\n",
    "\n",
    "length = len(vectors) - 1\n",
    "# Results of time taken to compute function on a variety of sets,\n",
    "for i in range(0,length,1):\n",
    "    \n",
    "    result.append(timeit(naiveCosine,vectors[i],vectors[i+1]))\n",
    "    max_len.append(max(np.count_nonzero(vectors[i]),np.count_nonzero(vectors[i+1])))\n",
    "    mean.append(result[i][0])\n",
    "    sd.append(result[i][1])\n",
    "    se.append(sd[i]/np.sqrt(max_len[i]))"
   ]
  },
  {
   "cell_type": "markdown",
   "metadata": {},
   "source": [
    "For the naiveCosine function, since there is one for loop, the running time would be in the worst case scenario of O(n)\n",
    "\n",
    "I plotted results of mean time to compute aganst length of the largest list in the set, importing the matplotlib module, I plotted point via a scatter plot and add a trendline, I also added error bars using the standard error, since I was calculating the mean value of a set number of reapeted operation."
   ]
  },
  {
   "cell_type": "code",
   "execution_count": 17,
   "metadata": {},
   "outputs": [
    {
     "data": {
      "text/plain": [
       "(-0.001, 0.002)"
      ]
     },
     "execution_count": 17,
     "metadata": {},
     "output_type": "execute_result"
    },
    {
     "data": {
      "image/png": "[encoded data removed]",
      "text/plain": [
       "<Figure size 432x288 with 1 Axes>"
      ]
     },
     "metadata": {
      "needs_background": "light"
     },
     "output_type": "display_data"
    }
   ],
   "source": [
    "#plot straight line using function previously defined\n",
    "straight_line_plot(np.array(max_len),np.array(mean))\n",
    "plt.xlabel('Maximum Length of list')\n",
    "plt.ylabel('Mean time taken(s)')\n",
    "plt.title(\"Time taken to compute Cosine similarity(naive version)\")\n",
    "plt.ylim(-0.001,0.002)"
   ]
  },
  {
   "cell_type": "code",
   "execution_count": 18,
   "metadata": {},
   "outputs": [
    {
     "name": "stdout",
     "output_type": "stream",
     "text": [
      "[4.32296012e-05 3.86849897e-05 3.20742256e-05 2.82659260e-05\n",
      " 2.87755394e-05 2.63615594e-05 2.47957854e-05 2.00672321e-05\n",
      " 1.73239353e-05 2.14454941e-05]\n",
      "[0.00058564 0.00073255 0.00077052 0.00080351 0.00077652 0.0008125\n",
      " 0.00087946 0.00089745 0.00092343 0.00089045]\n"
     ]
    }
   ],
   "source": [
    "print(np.array(se))\n",
    "print(np.array(mean))"
   ]
  },
  {
   "cell_type": "markdown",
   "metadata": {},
   "source": [
    "error values < output values"
   ]
  },
  {
   "cell_type": "markdown",
   "metadata": {},
   "source": [
    "A stright line plot is not a very suitable plot for the data collected, hence I converted the data with the natural log. Once again error bars using the standard error were added. The gradient of the log log plot will indicate the time complexity of the naiveCosine function for my computer."
   ]
  },
  {
   "cell_type": "code",
   "execution_count": 19,
   "metadata": {},
   "outputs": [
    {
     "data": {
      "text/plain": [
       "Text(0.5, 1.0, 'Time taken to compute Cosine similarity(naive version) log-log plot')"
      ]
     },
     "execution_count": 19,
     "metadata": {},
     "output_type": "execute_result"
    },
    {
     "data": {
      "image/png": "[encoded data removed]",
      "text/plain": [
       "<Figure size 432x288 with 1 Axes>"
      ]
     },
     "metadata": {
      "needs_background": "light"
     },
     "output_type": "display_data"
    }
   ],
   "source": [
    "#plot straight line log loggraph using function previously defined\n",
    "straight_line_log_log_plot(np.array(max_len),np.array(mean))\n",
    "plt.xlabel('Maximum Length of list')\n",
    "plt.ylabel('Mean time taken(s)')\n",
    "plt.title(\"Time taken to compute Cosine similarity(naive version) log-log plot\")"
   ]
  },
  {
   "cell_type": "code",
   "execution_count": 20,
   "metadata": {},
   "outputs": [
    {
     "name": "stdout",
     "output_type": "stream",
     "text": [
      "Gradient and intercept 0.6476070116258333 -4.595894711091809\n"
     ]
    }
   ],
   "source": [
    "#Calculate gradient of straight line on log log graph using function previously defined\n",
    "grad_interpect_log_log(np.array(max_len),np.array(mean))"
   ]
  },
  {
   "cell_type": "markdown",
   "metadata": {},
   "source": [
    "I got a value of approx 0.648(3sf) for my computer, which is less than the theorical worse case of 1, this may be due to the fact I optimised the code to negative calculation of zeros"
   ]
  },
  {
   "cell_type": "markdown",
   "metadata": {},
   "source": [
    "I also tested the cosine similarity, using the function written using numpy libraries."
   ]
  },
  {
   "cell_type": "code",
   "execution_count": 32,
   "metadata": {},
   "outputs": [],
   "source": [
    "def timeit2(somefunc,*args,repeats=100000,):\n",
    "    times=[]\n",
    "    for i in range(repeats):\n",
    "        starttime=time.time()\n",
    "        ans=somefunc(*args)\n",
    "        endtime=time.time()\n",
    "        timetaken=endtime-starttime\n",
    "        times.append(timetaken)\n",
    "    \n",
    "    mean=np.mean(times)\n",
    "    stdev=np.std(times)\n",
    " \n",
    "    return (mean,stdev)\n",
    "result = []\n",
    "max_len = []\n",
    "mean = []\n",
    "sd = []\n",
    "se = []\n",
    "# Results of time taken to compute function on a variety of sets,\n",
    "for i in range(0,len(vectors)-1,1):\n",
    "    \n",
    "    result.append(timeit2(npcosine,vectors[i],vectors[i+1]))\n",
    "    max_len.append(max(np.count_nonzero(vectors[i]),np.count_nonzero(vectors[i+1])))\n",
    "    mean.append(result[i][0])\n",
    "    sd.append(result[i][1])\n",
    "    se.append(sd[i]/np.sqrt(max_len[i]))"
   ]
  },
  {
   "cell_type": "markdown",
   "metadata": {},
   "source": [
    "I plotted the results of time taken for the function aganst lenght of the non zero values of the list."
   ]
  },
  {
   "cell_type": "code",
   "execution_count": 33,
   "metadata": {},
   "outputs": [
    {
     "data": {
      "text/plain": [
       "(-0.00025, 0.0005)"
      ]
     },
     "execution_count": 33,
     "metadata": {},
     "output_type": "execute_result"
    },
    {
     "data": {
      "image/png": "[encoded data removed]",
      "text/plain": [
       "<Figure size 432x288 with 1 Axes>"
      ]
     },
     "metadata": {
      "needs_background": "light"
     },
     "output_type": "display_data"
    }
   ],
   "source": [
    "#plot straight line using function previously defined\n",
    "straight_line_plot(np.array(max_len),np.array(mean))\n",
    "plt.xlabel('Maximum Length of list')\n",
    "plt.ylabel('Mean time taken(s)')\n",
    "plt.title(\"Time taken to compute Cosine similarity(numpy version)\")\n",
    "plt.ylim(-0.00025,0.0005)"
   ]
  },
  {
   "cell_type": "code",
   "execution_count": 34,
   "metadata": {},
   "outputs": [
    {
     "name": "stdout",
     "output_type": "stream",
     "text": [
      "[1.72651336e-05 1.54151420e-05 1.45358694e-05 1.39609773e-05\n",
      " 1.36450157e-05 1.30759792e-05 1.32660459e-05 1.26970834e-05\n",
      " 1.29006513e-05 1.25024734e-05]\n",
      "[4.20341468e-05 4.16844106e-05 4.07549310e-05 4.10847664e-05\n",
      " 4.05850458e-05 4.10347557e-05 4.22041821e-05 4.15743637e-05\n",
      " 4.25438094e-05 4.07648540e-05]\n"
     ]
    }
   ],
   "source": [
    "print(np.array(se))\n",
    "print(np.array(mean))"
   ]
  },
  {
   "cell_type": "markdown",
   "metadata": {},
   "source": [
    "For this analysis, the errors do not hold for the log log plot since error value ≈ function output value"
   ]
  },
  {
   "cell_type": "markdown",
   "metadata": {},
   "source": [
    "I converted data into logarithmic format."
   ]
  },
  {
   "cell_type": "code",
   "execution_count": 35,
   "metadata": {},
   "outputs": [
    {
     "data": {
      "text/plain": [
       "Text(0.5, 1.0, 'Time taken to compute Cosine similarity(numpy version) log-log plot')"
      ]
     },
     "execution_count": 35,
     "metadata": {},
     "output_type": "execute_result"
    },
    {
     "data": {
      "image/png": "[encoded data removed]",
      "text/plain": [
       "<Figure size 432x288 with 1 Axes>"
      ]
     },
     "metadata": {
      "needs_background": "light"
     },
     "output_type": "display_data"
    }
   ],
   "source": [
    "#plot straight line log log plot using function previously defined\n",
    "straight_line_log_log_plot(np.array(max_len),np.array(mean))\n",
    "plt.xlabel('Maximum Length of list')\n",
    "plt.ylabel('time taken(s)')\n",
    "plt.title(\"Time taken to compute Cosine similarity(numpy version) log-log plot\")"
   ]
  },
  {
   "cell_type": "code",
   "execution_count": 36,
   "metadata": {},
   "outputs": [
    {
     "name": "stdout",
     "output_type": "stream",
     "text": [
      "Gradient and intercept -0.006748967787070594 -4.3671468819379236\n"
     ]
    }
   ],
   "source": [
    "#Calculate gradient of straight line on log log graph using function previously defined\n",
    "grad_interpect_log_log(np.array(max_len),np.array(mean))"
   ]
  },
  {
   "cell_type": "markdown",
   "metadata": {},
   "source": [
    "The gradient function is approximatly zero, this suggests the number of non zero values is not a good measure to show the running time complexity of this function."
   ]
  },
  {
   "cell_type": "markdown",
   "metadata": {},
   "source": [
    "### Summary Q2:\n",
    "The Cosine Siliarity function, using the numpy library was a lot quicker, as the numpy function only calculates the arithmetic values and doesnt read the list. To improve the analysis, I could have used a greater number of text documents with a greater variety of number of words. I could have also tested a greater variety of sets. However I think my analysis is sufficent. The value of the error and value of the output for the cosine similairtiy using numpy libraries should follow a different ananlysis for taking the log of the error."
   ]
  },
  {
   "cell_type": "markdown",
   "metadata": {},
   "source": [
    "# Question 3\n",
    "I wrote a function to calculate the cosine similarity from a sparse representation, to do this I calculated the numerator as a dot product, if the same words occured in both texts. I calculated the denominator by taking the dot product of both lists and multiplying the two dot products together and then square rooting the result. "
   ]
  },
  {
   "cell_type": "code",
   "execution_count": 37,
   "metadata": {},
   "outputs": [],
   "source": [
    "#q3\n",
    "\n",
    "\n",
    "sumtot = 0\n",
    "j_tot = 0\n",
    "i_tot = 0\n",
    "\n",
    "# function cmputes cosine similiarity from a sparse representation \n",
    "\n",
    "def cosinedict(bag_0, bag_1):\n",
    "    sumtot = 0\n",
    "    j_tot = 0\n",
    "    i_tot = 0\n",
    "    for i in bag_0.keys():\n",
    "        for j in bag_1.keys():\n",
    "            if i == j:\n",
    "                 sumtot += bag_0[i]*bag_1[j]\n",
    "        i_tot += bag_0[i]*bag_0[i]\n",
    "    for j in bag_1.keys():\n",
    "        j_tot += bag_1[j]*bag_1[j]\n",
    "    cosineS = sumtot/(np.sqrt(j_tot*i_tot))\n",
    "    return cosineS"
   ]
  },
  {
   "cell_type": "markdown",
   "metadata": {},
   "source": [
    "I then wrote a function to calculate the time taken to compute the function, as well as mean and standard deviation and standard error"
   ]
  },
  {
   "cell_type": "code",
   "execution_count": 39,
   "metadata": {},
   "outputs": [],
   "source": [
    "\n",
    "result = []\n",
    "max_len = []\n",
    "mean = []\n",
    "sd = []\n",
    "se = []\n",
    "\n",
    "# Results of time taken to compute function on a variety of sets,\n",
    "\n",
    "for i in range(0,len(bag_list)-1,1):\n",
    "    \n",
    "    result.append(timeit(cosinedict,bag_list[i],bag_list[i+1]))\n",
    "    max_len.append(max(len(bag_list[i]),len(bag_list[i+1])))\n",
    "    mean.append(result[i][0])\n",
    "    sd.append(result[i][1])\n",
    "    se.append(sd[i]/np.sqrt(max_len[i]))"
   ]
  },
  {
   "cell_type": "markdown",
   "metadata": {},
   "source": [
    "The function I wrote had 3 for loops, so due to this worst case running time for this function would be O(n^3).\n",
    "I did the same procedude as before, plotting a straight line graph of time aganst length of the maximum list in the set, and took a log-log plot. I calculated the gradient of the log log plot."
   ]
  },
  {
   "cell_type": "code",
   "execution_count": 40,
   "metadata": {},
   "outputs": [
    {
     "data": {
      "text/plain": [
       "(-0.00025, 0.005)"
      ]
     },
     "execution_count": 40,
     "metadata": {},
     "output_type": "execute_result"
    },
    {
     "data": {
      "image/png": "[encoded data removed]",
      "text/plain": [
       "<Figure size 432x288 with 1 Axes>"
      ]
     },
     "metadata": {
      "needs_background": "light"
     },
     "output_type": "display_data"
    }
   ],
   "source": [
    "#plot straight line using function previously defined\n",
    "straight_line_plot(np.array(max_len),np.array(mean))\n",
    "plt.xlabel('Maximum Length of list')\n",
    "plt.ylabel('Mean time taken(s)')\n",
    "plt.title(\"Time taken to compute Cosine similarity- from sparse representation\")\n",
    "plt.ylim(-0.00025,0.005)"
   ]
  },
  {
   "cell_type": "code",
   "execution_count": 41,
   "metadata": {},
   "outputs": [
    {
     "name": "stdout",
     "output_type": "stream",
     "text": [
      "[4.33029885e-05 4.40050136e-05 3.27011706e-05 5.37233598e-05\n",
      " 3.68717306e-05 4.56983492e-05 5.22424542e-05 5.18499400e-05\n",
      " 4.60975140e-05 6.06504307e-05]\n",
      "[0.00075753 0.00148209 0.00187285 0.00260939 0.0024395  0.00287123\n",
      " 0.00331496 0.00346487 0.00354782 0.00381265]\n"
     ]
    }
   ],
   "source": [
    "print(np.array(se))\n",
    "print(np.array(mean))"
   ]
  },
  {
   "cell_type": "markdown",
   "metadata": {},
   "source": [
    "error vaues < than function"
   ]
  },
  {
   "cell_type": "code",
   "execution_count": 42,
   "metadata": {},
   "outputs": [
    {
     "data": {
      "text/plain": [
       "Text(0.5, 1.0, 'Time taken to compute Cosine similarity- from sparse representation (log-log plot)')"
      ]
     },
     "execution_count": 42,
     "metadata": {},
     "output_type": "execute_result"
    },
    {
     "data": {
      "image/png": "[encoded data removed]",
      "text/plain": [
       "<Figure size 432x288 with 1 Axes>"
      ]
     },
     "metadata": {
      "needs_background": "light"
     },
     "output_type": "display_data"
    }
   ],
   "source": [
    "#plot straight line log log  plot using function previously defined\n",
    "straight_line_log_log_plot(np.array(max_len),np.array(mean))\n",
    "plt.xlabel('Maximum Length of list')\n",
    "plt.ylabel('Mean time taken(s)')\n",
    "plt.title(\"Time taken to compute Cosine similarity- from sparse representation (log-log plot)\")"
   ]
  },
  {
   "cell_type": "code",
   "execution_count": 43,
   "metadata": {},
   "outputs": [
    {
     "name": "stdout",
     "output_type": "stream",
     "text": [
      "Gradient and intercept 2.483469187357597 -8.37289418437188\n"
     ]
    }
   ],
   "source": [
    "#Calculate gradient of straight line on log log graph using function previously defined\n",
    "grad_interpect_log_log(np.array(max_len),np.array(mean))"
   ]
  },
  {
   "cell_type": "markdown",
   "metadata": {},
   "source": [
    "I got a a value of 2.48 for my gradient, which is smaller than the worse case scenario of 3, this is probably due to the fact the numerator(dot product), in the function is only calculated if there are identical words."
   ]
  },
  {
   "cell_type": "markdown",
   "metadata": {},
   "source": [
    "### Summary Q3:\n",
    "THe running time for calculation of the cosine similiarity using a sparse representation is greater than the running time using a dense representation. I could have used more text documents with a greater variety of total number of words and tested the cosine similairty funciton with a lager variety of sets, however for this project, I think my analysis is sufficent."
   ]
  },
  {
   "cell_type": "markdown",
   "metadata": {},
   "source": [
    "# Question 4:\n",
    "To complete question 4, I created a range of documents with a variety of documents greater than 10, I then wrote a function to compare the jaccard similarity of every single document with each other, using the module itertools to get every single combination and the jaccard function I had created previously. I then timed how long the function took to compute, as well as the length of the number of documents."
   ]
  },
  {
   "cell_type": "code",
   "execution_count": 45,
   "metadata": {},
   "outputs": [],
   "source": [
    "#q4\n",
    "\n",
    "#create new documents with a variety of lengths\n",
    "bag_list_24 = [x for pair in zip(bag_list,bag_list) for x in pair]\n",
    "bag_list_48 = [x for pair in zip(bag_list_24,bag_list_24) for x in pair]\n",
    "bag_list_96 = [x for pair in zip(bag_list_48,bag_list_48) for x in pair]\n",
    "bag_list_192 = [x for pair in zip(bag_list_96,bag_list_96) for x in pair]\n",
    "bag_list_384 = [x for pair in zip(bag_list_192,bag_list_192) for x in pair]\n",
    "\n",
    "\n",
    "#collect all list of documets into a sinngle list\n",
    "list_of_bags = [bag_list, bag_list_24, bag_list_48, bag_list_96, bag_list_192, bag_list_384]\n",
    "import itertools\n",
    "\n",
    "# creat a function to compute jaccards similarity on every combination in the list\n",
    "def all_pairs_similarity_jaccard(list_of_bags):\n",
    "    result = []\n",
    "    for a, b in itertools.combinations(list_of_bags,2):\n",
    "        result.append(jaccard1(a,b)) \n",
    "    return result\n",
    "\n",
    "\n",
    "    \n",
    "\n",
    "result = []\n",
    "max_len = []\n",
    "mean = []\n",
    "sd = []\n",
    "se = []\n",
    "\n",
    "\n",
    "\n",
    "def timeit3(somefunc,*args,repeats=5,):\n",
    "    times=[]\n",
    "    for i in range(repeats):\n",
    "        starttime=time.time()\n",
    "        ans=somefunc(*args)\n",
    "        endtime=time.time()\n",
    "        timetaken=endtime-starttime\n",
    "        times.append(timetaken)\n",
    "    \n",
    "    mean=np.mean(times)\n",
    "    stdev=np.std(times)\n",
    " \n",
    "    return (mean,stdev)\n",
    "###WARNING\n",
    "#function takes a few mins to run, to reduce compute time reduce reapeats to repeats = 5\n",
    "# Results of time taken to compute function on a variety of sets,\n",
    "for i in list_of_bags:\n",
    "    \n",
    "    result = (timeit3(all_pairs_similarity_jaccard,i))\n",
    "    max_len.append(len(i))\n",
    "    mean.append(result[0])\n",
    "    sd.append(result[1])\n",
    "    se.append(result[1]/np.sqrt(len(i)))\n",
    "\n",
    "\n"
   ]
  },
  {
   "cell_type": "markdown",
   "metadata": {},
   "source": [
    "I plotted the time taken to compute the all pairs similiariy jaccard function aganst the maximum lenght of documents in the set. I coverted the results into a log log plot, and calculated the gradient and the intercept of the straight log log plot. Since the itertools function is iterating unique sets across the list i.e in a set  (1,2,3,4) you would get {(1,2), (1,3), (1, 4), (2, 3), (2, 4), (3,4)}. A general formula for the total number of combinations is (n!/k!(n-k)!), for us k = 2 so this becomes ((n!/2!(n-2)!), which can be simplified to ((n)*(n-1)/2), hence the time complexity should in the worse case scenario be of O(n^2)."
   ]
  },
  {
   "cell_type": "code",
   "execution_count": 46,
   "metadata": {},
   "outputs": [
    {
     "data": {
      "text/plain": [
       "Text(0.5, 1.0, 'Time taken to compute Jaccard similarity on a number of documents in a file')"
      ]
     },
     "execution_count": 46,
     "metadata": {},
     "output_type": "execute_result"
    },
    {
     "data": {
      "image/png": "[encoded data removed]",
      "text/plain": [
       "<Figure size 432x288 with 1 Axes>"
      ]
     },
     "metadata": {
      "needs_background": "light"
     },
     "output_type": "display_data"
    }
   ],
   "source": [
    "##plot straight line using function previously defined\n",
    "straight_line_plot(np.array(max_len),np.array(mean))\n",
    "plt.xlabel('Maximum Length of number of documents')\n",
    "plt.ylabel('Mean time taken(s)')\n",
    "plt.title(\"Time taken to compute Jaccard similarity on a number of documents in a file\")"
   ]
  },
  {
   "cell_type": "markdown",
   "metadata": {},
   "source": [
    "As we cas see for the plot - the function looks like it is quadratic in nature, we could test this with a quadratic trendline."
   ]
  },
  {
   "cell_type": "code",
   "execution_count": 47,
   "metadata": {},
   "outputs": [
    {
     "data": {
      "text/plain": [
       "Text(0.5, 1.0, 'Time taken to compute Jaccard similarity on a number of documents in a file(log-log plot)')"
      ]
     },
     "execution_count": 47,
     "metadata": {},
     "output_type": "execute_result"
    },
    {
     "data": {
      "image/png": "[encoded data removed]",
      "text/plain": [
       "<Figure size 432x288 with 1 Axes>"
      ]
     },
     "metadata": {
      "needs_background": "light"
     },
     "output_type": "display_data"
    }
   ],
   "source": [
    "##plot straight line using function previously defined\n",
    "straight_line_log_log_plot(np.array(max_len),np.array(mean))\n",
    "plt.xlabel('Maximum Length of number of documents')\n",
    "plt.ylabel('time taken(s)')\n",
    "plt.title(\"Time taken to compute Jaccard similarity on a number of documents in a file(log-log plot)\")"
   ]
  },
  {
   "cell_type": "code",
   "execution_count": 48,
   "metadata": {},
   "outputs": [
    {
     "name": "stdout",
     "output_type": "stream",
     "text": [
      "Gradient and intercept 1.9470254050203721 -3.899392532425453\n"
     ]
    }
   ],
   "source": [
    "#Calculate gradient of straight line on log log graph using function previously defined\n",
    "grad_interpect_log_log(np.array(max_len),np.array(mean))"
   ]
  },
  {
   "cell_type": "markdown",
   "metadata": {},
   "source": [
    "From the calculation of the gradient, and intercept, I can use this to calculate the total time it would take to compute all pairs similarity jaccard function for 200,000 documents. "
   ]
  },
  {
   "cell_type": "code",
   "execution_count": 49,
   "metadata": {},
   "outputs": [
    {
     "name": "stdout",
     "output_type": "stream",
     "text": [
      "424380494.7025122\n",
      "322.9684130156105\n"
     ]
    }
   ],
   "source": [
    "\n",
    "y = (np.log(200000)*1.9470254050203721-3.899392532425453)\n",
    "#rearrange to convet log value to actual value\n",
    "yt = np.exp(y) \n",
    "print(yt)\n",
    "print(yt/(3600*365))"
   ]
  },
  {
   "cell_type": "markdown",
   "metadata": {},
   "source": [
    "to compute 200k documents would take 322 years (3sf)."
   ]
  },
  {
   "cell_type": "markdown",
   "metadata": {},
   "source": [
    "I did the same process to calculate the cosine similairty on all documents as I had done for the jaccard similarity. Plotting a straight line graph and a log log plot, the calculating the gradiet and itercept of the straight line of the log-log plot. Once again we would expect a time complexity of O(n^2)."
   ]
  },
  {
   "cell_type": "code",
   "execution_count": 50,
   "metadata": {},
   "outputs": [],
   "source": [
    "\n",
    "# a function to compute cosine similarity on every combination in the list(spare representation)\n",
    "\n",
    "def all_pairs_similarity_cosine(list_of_bags):\n",
    "    result = []\n",
    "    for a, b in itertools.combinations(list_of_bags,2):\n",
    "        result.append(cosinedict(a,b)) \n",
    "    return result\n",
    "\n",
    "#all_pairs_similarity_cosine(bag_list, 2)\n",
    "\n",
    "result = []\n",
    "max_len = []\n",
    "mean = []\n",
    "sd = []\n",
    "se = []\n",
    "\n",
    "###WARNING\n",
    "#function takes a few mins to run, to reduce compute time reduce reapeats to repeats = 2\n",
    "# Results of time taken to compute function on a variety of sets,\n",
    "for i in list_of_bags:\n",
    "    \n",
    "    result = (timeit3(all_pairs_similarity_cosine,i))\n",
    "    max_len.append(len(i))\n",
    "    mean.append(result[0])\n",
    "    sd.append(result[1])\n",
    "    se.append(result[1]/np.sqrt(len(i)))\n",
    "\n"
   ]
  },
  {
   "cell_type": "markdown",
   "metadata": {},
   "source": [
    "I plotted a stright line of the function aganst the the maximum number of documents in a set."
   ]
  },
  {
   "cell_type": "code",
   "execution_count": 51,
   "metadata": {},
   "outputs": [
    {
     "data": {
      "text/plain": [
       "Text(0.5, 1.0, 'Time taken to compute Cosine similarity(naive version) on a number of documents in a file')"
      ]
     },
     "execution_count": 51,
     "metadata": {},
     "output_type": "execute_result"
    },
    {
     "data": {
      "image/png": "[encoded data removed]",
      "text/plain": [
       "<Figure size 432x288 with 1 Axes>"
      ]
     },
     "metadata": {
      "needs_background": "light"
     },
     "output_type": "display_data"
    }
   ],
   "source": [
    "##Calculate gradient of straight line using function previously defined\n",
    "straight_line_plot(np.array(max_len),np.array(mean))\n",
    "plt.xlabel('Maximum Length of number of documents')\n",
    "plt.ylabel('mean time taken(s)')\n",
    "plt.title(\"Time taken to compute Cosine similarity(naive version) on a number of documents in a file\")"
   ]
  },
  {
   "cell_type": "markdown",
   "metadata": {},
   "source": [
    "I also plotted results in a log log plot."
   ]
  },
  {
   "cell_type": "code",
   "execution_count": 52,
   "metadata": {
    "scrolled": false
   },
   "outputs": [
    {
     "data": {
      "text/plain": [
       "Text(0.5, 1.0, 'Time taken to compute Cosine similarity(naive version) on a number of documents in a file(log-log plot)')"
      ]
     },
     "execution_count": 52,
     "metadata": {},
     "output_type": "execute_result"
    },
    {
     "data": {
      "image/png": "[encoded data removed]",
      "text/plain": [
       "<Figure size 432x288 with 1 Axes>"
      ]
     },
     "metadata": {
      "needs_background": "light"
     },
     "output_type": "display_data"
    }
   ],
   "source": [
    "#Calculate gradient of straight line on log log graph using function previously defined\n",
    "straight_line_log_log_plot(np.array(max_len),np.array(mean))\n",
    "plt.xlabel('Maximum Length of number of documents')\n",
    "plt.ylabel('Mean time taken(s)')\n",
    "plt.title(\"Time taken to compute Cosine similarity(naive version) on a number of documents in a file(log-log plot)\")"
   ]
  },
  {
   "cell_type": "code",
   "execution_count": 53,
   "metadata": {},
   "outputs": [
    {
     "name": "stdout",
     "output_type": "stream",
     "text": [
      "Gradient and intercept 1.9930886989131917 -2.883085292516707\n"
     ]
    }
   ],
   "source": [
    "#Calculate gradient of straight line on log log graph using function previously defined\n",
    "grad_interpect_log_log(np.array(max_len),np.array(mean))\n"
   ]
  },
  {
   "cell_type": "markdown",
   "metadata": {},
   "source": [
    "From the calculation of the gradient, and intercept, I can use this to calculate the total time it would take to compute all pairs similarity cosine function for 200,000 documents. "
   ]
  },
  {
   "cell_type": "code",
   "execution_count": 54,
   "metadata": {},
   "outputs": [
    {
     "name": "stdout",
     "output_type": "stream",
     "text": [
      "2057382036.387644\n",
      "571495.010107679\n",
      "1565.7397537196682\n"
     ]
    }
   ],
   "source": [
    "y = np.log(200000)*1.9930886989131917-2.883085292516707\n",
    "#rearrange to convert log value to actual value\n",
    "yt = np.exp(y) \n",
    "print(yt)\n",
    "print(yt/3600)\n",
    "print(yt/(3600*365))"
   ]
  },
  {
   "cell_type": "markdown",
   "metadata": {},
   "source": [
    "for 200k documents the algorithm would take 1570 years(3sf)"
   ]
  },
  {
   "cell_type": "markdown",
   "metadata": {},
   "source": [
    "### Summary Q4:\n",
    "To improve the anaysis, I could have created more documents of a variety of lengths, however the compute time was very long, so I reduced the number of documents used to 5, Jaccard similiarity function was faster than Cosine similaity function, which is expected as in earlier questions I showed the jaccard function had a smaller time complexiity than the cosine compexitety for sparse representation of documents. "
   ]
  },
  {
   "cell_type": "code",
   "execution_count": null,
   "metadata": {},
   "outputs": [],
   "source": []
  }
 ],
 "metadata": {
  "kernelspec": {
   "display_name": "Python 3",
   "language": "python",
   "name": "python3"
  },
  "language_info": {
   "codemirror_mode": {
    "name": "ipython",
    "version": 3
   },
   "file_extension": ".py",
   "mimetype": "text/x-python",
   "name": "python",
   "nbconvert_exporter": "python",
   "pygments_lexer": "ipython3",
   "version": "3.7.3"
  }
 },
 "nbformat": 4,
 "nbformat_minor": 2
}
